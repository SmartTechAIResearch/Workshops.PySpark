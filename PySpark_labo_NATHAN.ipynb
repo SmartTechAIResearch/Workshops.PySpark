{
 "cells": [
  {
   "cell_type": "markdown",
   "metadata": {},
   "source": [
    "# <span style=\"color:hotpink\"> PySpark labo </span> - Nathan Segers"
   ]
  },
  {
   "cell_type": "markdown",
   "metadata": {},
   "source": [
    "BEGIN MET HET INVULLEN VAN JE NAAM"
   ]
  },
  {
   "cell_type": "markdown",
   "metadata": {},
   "source": [
    "Naam: "
   ]
  },
  {
   "cell_type": "markdown",
   "metadata": {},
   "source": [
    "Tijdens dit deel van het labo zal je de PySpark basics leren en hoe ze toe te passen voor machine learning.  \n",
    "De dataset waarmee gewerkt zal worden is data over huizen in king county en op het einde zal je de prijs van een huis proberen te voorspellen aan de hand van lineaire regressie.  \n",
    "De kolommen die aanwezig zijn in de dataset en hun beschrijving zijn:  \n",
    "`price`: prediction target  \n",
    "`bedrooms`: number of bedrooms/house  \n",
    "`bathrooms`: number of bathrooms/house  \n",
    "`sqft_living`: square footage of the home  \n",
    "`sqft_lot`: square footage of the lot  \n",
    "`floors`: Total floors(levels) in a house  \n",
    "`waterfront`: House which has a view to a waterfront  \n",
    "`view`: Has been viewed  \n",
    "`condition`: How good the condition overall is  \n",
    "`grade`: overall grade given to the housing unit, based on King County grading system  \n",
    "`sqft_above`: square footage of house apart from basement  \n",
    "`sqft_basement`: square footage of the basement  \n",
    "`yr_built`: built year  \n",
    "`yr_renovated`: Year when house was renovated  \n",
    "`zipcode`: zip  \n",
    "`sqft_living15`: Living room area in 2015(implies some renovations) This might or might not have affected the lotsize area  \n",
    "`sqft_lot15`: LotSize area in 2015(implies some renovation) \n",
    "\n",
    "De te beantwoorden vragen/opdrachten staan altijd in italics. "
   ]
  },
  {
   "cell_type": "code",
   "execution_count": 1,
   "metadata": {},
   "outputs": [],
   "source": [
    "from pyspark.sql import SparkSession\n",
    "from pyspark.ml.regression import LinearRegression"
   ]
  },
  {
   "cell_type": "markdown",
   "metadata": {},
   "source": [
    "## <span style=\"color:hotpink\"> SparkSession, data inlezen en data weergeven</span>\n",
    "Een SparkSession voorziet een single point of entry om te interageren met de onderliggende Spark functionaliteit en laat de gebruiker toe om te programmeren met de DataFrame API.  \n",
    "De te gebruiken functie om een sparksessie te bouwen is:  \n",
    "`spark = SparkSession.builder.appName('name').getOrCreate()`  \n",
    "*Bouw nu zelf een SparkSession met de naam labo.*"
   ]
  },
  {
   "cell_type": "code",
   "execution_count": 2,
   "metadata": {},
   "outputs": [],
   "source": [
    "spark = SparkSession.builder.appName(\"labo\").getOrCreate()"
   ]
  },
  {
   "cell_type": "markdown",
   "metadata": {},
   "source": [
    "De data kan ingelezen worden met de functie: `spark.read.csv()`  \n",
    "*Laad de data `kc_house_data.csv` in en zet de parameters `inferSchema` en `header` op True*"
   ]
  },
  {
   "cell_type": "code",
   "execution_count": 134,
   "metadata": {},
   "outputs": [],
   "source": [
    "data = spark.read.csv(\"kc_house_data.csv\", inferSchema = True, header = True)"
   ]
  },
  {
   "cell_type": "markdown",
   "metadata": {},
   "source": [
    "De functie `df.printSchema()` toont alle kolommen en het type waarden dat hierin aanwezig zijn.  "
   ]
  },
  {
   "cell_type": "code",
   "execution_count": 4,
   "metadata": {},
   "outputs": [
    {
     "name": "stdout",
     "output_type": "stream",
     "text": [
      "root\n",
      " |-- id: long (nullable = true)\n",
      " |-- price: integer (nullable = true)\n",
      " |-- bedrooms: integer (nullable = true)\n",
      " |-- bathrooms: double (nullable = true)\n",
      " |-- sqft_living: integer (nullable = true)\n",
      " |-- sqft_lot: integer (nullable = true)\n",
      " |-- floors: double (nullable = true)\n",
      " |-- waterfront: integer (nullable = true)\n",
      " |-- view: integer (nullable = true)\n",
      " |-- condition: integer (nullable = true)\n",
      " |-- grade: integer (nullable = true)\n",
      " |-- sqft_above: integer (nullable = true)\n",
      " |-- sqft_basement: integer (nullable = true)\n",
      " |-- yr_built: integer (nullable = true)\n",
      " |-- yr_renovated: integer (nullable = true)\n",
      " |-- zipcode: integer (nullable = true)\n",
      " |-- sqft_living15: integer (nullable = true)\n",
      " |-- sqft_lot15: integer (nullable = true)\n",
      "\n"
     ]
    }
   ],
   "source": [
    "data.printSchema()"
   ]
  },
  {
   "cell_type": "markdown",
   "metadata": {},
   "source": [
    "*Wat is het type waarden aanwezig in de kolom sqft_basement?*"
   ]
  },
  {
   "cell_type": "markdown",
   "metadata": {},
   "source": [
    "een integer"
   ]
  },
  {
   "cell_type": "markdown",
   "metadata": {},
   "source": [
    "Om een spark DataFrame (of spark column) weer te geven moet je de functie `df.show()` aanroepen. Dus telkens een functie een Spark Dataframe returned moet je `.show()` gebruiken om het resultaat te kunnen zien.  \n",
    "*Bekijk nu zelf de data.*"
   ]
  },
  {
   "cell_type": "code",
   "execution_count": 5,
   "metadata": {},
   "outputs": [
    {
     "name": "stdout",
     "output_type": "stream",
     "text": [
      "+----------+-------+--------+---------+-----------+--------+------+----------+----+---------+-----+----------+-------------+--------+------------+-------+-------------+----------+\n",
      "|        id|  price|bedrooms|bathrooms|sqft_living|sqft_lot|floors|waterfront|view|condition|grade|sqft_above|sqft_basement|yr_built|yr_renovated|zipcode|sqft_living15|sqft_lot15|\n",
      "+----------+-------+--------+---------+-----------+--------+------+----------+----+---------+-----+----------+-------------+--------+------------+-------+-------------+----------+\n",
      "|7129300520| 221900|       3|      1.0|       1180|    5650|   1.0|         0|   0|        3|    7|      1180|            0|    1955|           0|  98178|         1340|      5650|\n",
      "|6414100192| 538000|       3|     2.25|       2570|    7242|   2.0|         0|   0|        3|    7|      2170|          400|    1951|        1991|  98125|         1690|      7639|\n",
      "|5631500400| 180000|       2|      1.0|        770|   10000|   1.0|         0|   0|        3|    6|       770|            0|    1933|           0|  98028|         2720|      8062|\n",
      "|2487200875| 604000|       4|      3.0|       1960|    5000|   1.0|         0|   0|        5|    7|      1050|          910|    1965|           0|  98136|         1360|      5000|\n",
      "|1954400510| 510000|       3|      2.0|       1680|    8080|   1.0|         0|   0|        3|    8|      1680|            0|    1987|           0|  98074|         1800|      7503|\n",
      "|7237550310|1225000|       4|      4.5|       5420|  101930|   1.0|         0|   0|        3|   11|      3890|         1530|    2001|           0|  98053|         4760|    101930|\n",
      "|1321400060| 257500|       3|     2.25|       1715|    6819|   2.0|         0|   0|        3|    7|      1715|            0|    1995|           0|  98003|         2238|      6819|\n",
      "|2008000270| 291850|       3|      1.5|       1060|    9711|   1.0|         0|   0|        3|    7|      1060|            0|    1963|           0|  98198|         1650|      9711|\n",
      "|2414600126| 229500|       3|      1.0|       1780|    7470|   1.0|         0|   0|        3|    7|      1050|          730|    1960|           0|  98146|         1780|      8113|\n",
      "|3793500160| 323000|       3|      2.5|       1890|    6560|   2.0|         0|   0|        3|    7|      1890|            0|    2003|           0|  98038|         2390|      7570|\n",
      "|1736800520| 662500|       3|      2.5|       3560|    9796|   1.0|         0|   0|        3|    8|      1860|         1700|    1965|           0|  98007|         2210|      8925|\n",
      "|9212900260| 468000|       2|      1.0|       1160|    6000|   1.0|         0|   0|        4|    7|       860|          300|    1942|           0|  98115|         1330|      6000|\n",
      "| 114101516| 310000|       3|      1.0|       1430|   19901|   1.5|         0|   0|        4|    7|      1430|            0|    1927|           0|  98028|         1780|     12697|\n",
      "|6054650070| 400000|       3|     1.75|       1370|    9680|   1.0|         0|   0|        4|    7|      1370|            0|    1977|           0|  98074|         1370|     10208|\n",
      "|1175000570| 530000|       5|      2.0|       1810|    4850|   1.5|         0|   0|        3|    7|      1810|            0|    1900|           0|  98107|         1360|      4850|\n",
      "|9297300055| 650000|       4|      3.0|       2950|    5000|   2.0|         0|   3|        3|    9|      1980|          970|    1979|           0|  98126|         2140|      4000|\n",
      "|1875500060| 395000|       3|      2.0|       1890|   14040|   2.0|         0|   0|        3|    7|      1890|            0|    1994|           0|  98019|         1890|     14018|\n",
      "|6865200140| 485000|       4|      1.0|       1600|    4300|   1.5|         0|   0|        4|    7|      1600|            0|    1916|           0|  98103|         1610|      4300|\n",
      "|  16000397| 189000|       2|      1.0|       1200|    9850|   1.0|         0|   0|        4|    7|      1200|            0|    1921|           0|  98002|         1060|      5095|\n",
      "|7983200060| 230000|       3|      1.0|       1250|    9774|   1.0|         0|   0|        4|    7|      1250|            0|    1969|           0|  98003|         1280|      8850|\n",
      "+----------+-------+--------+---------+-----------+--------+------+----------+----+---------+-----+----------+-------------+--------+------------+-------+-------------+----------+\n",
      "only showing top 20 rows\n",
      "\n"
     ]
    }
   ],
   "source": [
    "data.show()"
   ]
  },
  {
   "cell_type": "markdown",
   "metadata": {},
   "source": [
    "Om de namen van de kolom weer te geven als lijst kan je de functie:  \n",
    "`df.columns` gebruiken"
   ]
  },
  {
   "cell_type": "code",
   "execution_count": 6,
   "metadata": {},
   "outputs": [
    {
     "data": {
      "text/plain": [
       "['id',\n",
       " 'price',\n",
       " 'bedrooms',\n",
       " 'bathrooms',\n",
       " 'sqft_living',\n",
       " 'sqft_lot',\n",
       " 'floors',\n",
       " 'waterfront',\n",
       " 'view',\n",
       " 'condition',\n",
       " 'grade',\n",
       " 'sqft_above',\n",
       " 'sqft_basement',\n",
       " 'yr_built',\n",
       " 'yr_renovated',\n",
       " 'zipcode',\n",
       " 'sqft_living15',\n",
       " 'sqft_lot15']"
      ]
     },
     "execution_count": 6,
     "metadata": {},
     "output_type": "execute_result"
    }
   ],
   "source": [
    "data.columns"
   ]
  },
  {
   "cell_type": "markdown",
   "metadata": {},
   "source": [
    "# <span style=\"color:hotpink\"> selecteren van kolommen </span>\n",
    "Je kan een kolom selecteren aan de hand van de methode:  \n",
    "`df[\"column_name\"]`  \n",
    "Selecteer de kolom condition"
   ]
  },
  {
   "cell_type": "code",
   "execution_count": 7,
   "metadata": {},
   "outputs": [
    {
     "data": {
      "text/plain": [
       "Column<condition>"
      ]
     },
     "execution_count": 7,
     "metadata": {},
     "output_type": "execute_result"
    }
   ],
   "source": [
    "data[\"condition\"]"
   ]
  },
  {
   "cell_type": "markdown",
   "metadata": {},
   "source": [
    "Het verkregen type is een Column, maar met de functie `df.select('column_name')` returened een spark DataFrame, die veelzijdiger is dan het type Column.  \n",
    "*Selecteer opnieuw de kolom condition maar nu als dataframe.*"
   ]
  },
  {
   "cell_type": "code",
   "execution_count": 8,
   "metadata": {},
   "outputs": [
    {
     "data": {
      "text/plain": [
       "DataFrame[condition: int]"
      ]
     },
     "execution_count": 8,
     "metadata": {},
     "output_type": "execute_result"
    }
   ],
   "source": [
    "data.select(\"condition\")"
   ]
  },
  {
   "cell_type": "markdown",
   "metadata": {},
   "source": [
    "Om de inhoud van de geselecteerde kolom weer te geven moet je de methode `.show` aanroepen."
   ]
  },
  {
   "cell_type": "code",
   "execution_count": 9,
   "metadata": {},
   "outputs": [
    {
     "name": "stdout",
     "output_type": "stream",
     "text": [
      "+---------+\n",
      "|condition|\n",
      "+---------+\n",
      "|        3|\n",
      "|        3|\n",
      "|        3|\n",
      "|        5|\n",
      "|        3|\n",
      "|        3|\n",
      "|        3|\n",
      "|        3|\n",
      "|        3|\n",
      "|        3|\n",
      "|        3|\n",
      "|        4|\n",
      "|        4|\n",
      "|        4|\n",
      "|        3|\n",
      "|        3|\n",
      "|        3|\n",
      "|        4|\n",
      "|        4|\n",
      "|        4|\n",
      "+---------+\n",
      "only showing top 20 rows\n",
      "\n"
     ]
    }
   ],
   "source": [
    "data.select(\"condition\").show()"
   ]
  },
  {
   "cell_type": "markdown",
   "metadata": {},
   "source": [
    "`df.head(n)` geeft de eerste n rijen terug als lijst.  \n",
    "Print de eerste 5 rijen"
   ]
  },
  {
   "cell_type": "code",
   "execution_count": 10,
   "metadata": {},
   "outputs": [
    {
     "data": {
      "text/plain": [
       "[Row(id=7129300520, price=221900, bedrooms=3, bathrooms=1.0, sqft_living=1180, sqft_lot=5650, floors=1.0, waterfront=0, view=0, condition=3, grade=7, sqft_above=1180, sqft_basement=0, yr_built=1955, yr_renovated=0, zipcode=98178, sqft_living15=1340, sqft_lot15=5650),\n",
       " Row(id=6414100192, price=538000, bedrooms=3, bathrooms=2.25, sqft_living=2570, sqft_lot=7242, floors=2.0, waterfront=0, view=0, condition=3, grade=7, sqft_above=2170, sqft_basement=400, yr_built=1951, yr_renovated=1991, zipcode=98125, sqft_living15=1690, sqft_lot15=7639),\n",
       " Row(id=5631500400, price=180000, bedrooms=2, bathrooms=1.0, sqft_living=770, sqft_lot=10000, floors=1.0, waterfront=0, view=0, condition=3, grade=6, sqft_above=770, sqft_basement=0, yr_built=1933, yr_renovated=0, zipcode=98028, sqft_living15=2720, sqft_lot15=8062),\n",
       " Row(id=2487200875, price=604000, bedrooms=4, bathrooms=3.0, sqft_living=1960, sqft_lot=5000, floors=1.0, waterfront=0, view=0, condition=5, grade=7, sqft_above=1050, sqft_basement=910, yr_built=1965, yr_renovated=0, zipcode=98136, sqft_living15=1360, sqft_lot15=5000),\n",
       " Row(id=1954400510, price=510000, bedrooms=3, bathrooms=2.0, sqft_living=1680, sqft_lot=8080, floors=1.0, waterfront=0, view=0, condition=3, grade=8, sqft_above=1680, sqft_basement=0, yr_built=1987, yr_renovated=0, zipcode=98074, sqft_living15=1800, sqft_lot15=7503)]"
      ]
     },
     "execution_count": 10,
     "metadata": {},
     "output_type": "execute_result"
    }
   ],
   "source": [
    "data.head(5)"
   ]
  },
  {
   "cell_type": "markdown",
   "metadata": {},
   "source": [
    "Je kan met `data.head()` ook een specifieke rij of een bepaalde waarde selecteren met behulp van:  \n",
    "`data.head(n)[row_number][column_number]`  \n",
    "*1) Selecteer de 4de rij*  \n",
    "*2) Selecteer prijs op de 3de rij*"
   ]
  },
  {
   "cell_type": "code",
   "execution_count": 11,
   "metadata": {},
   "outputs": [
    {
     "data": {
      "text/plain": [
       "Row(id=2487200875, price=604000, bedrooms=4, bathrooms=3.0, sqft_living=1960, sqft_lot=5000, floors=1.0, waterfront=0, view=0, condition=5, grade=7, sqft_above=1050, sqft_basement=910, yr_built=1965, yr_renovated=0, zipcode=98136, sqft_living15=1360, sqft_lot15=5000)"
      ]
     },
     "execution_count": 11,
     "metadata": {},
     "output_type": "execute_result"
    }
   ],
   "source": [
    "data.head(20)[3] # Index == 0"
   ]
  },
  {
   "cell_type": "code",
   "execution_count": 12,
   "metadata": {},
   "outputs": [
    {
     "data": {
      "text/plain": [
       "180000"
      ]
     },
     "execution_count": 12,
     "metadata": {},
     "output_type": "execute_result"
    }
   ],
   "source": [
    "data.head(5)[2][1]"
   ]
  },
  {
   "cell_type": "markdown",
   "metadata": {},
   "source": [
    "*Is dit een action of transformation?*"
   ]
  },
  {
   "cell_type": "markdown",
   "metadata": {},
   "source": [
    "Action"
   ]
  },
  {
   "cell_type": "markdown",
   "metadata": {},
   "source": [
    "# <span style=\"color:hotpink\"> Creating a new column and dropping columns </span>"
   ]
  },
  {
   "cell_type": "markdown",
   "metadata": {},
   "source": [
    "Je kan een nieuwe kolom aanmaken met de functie: `data.withColumn('new_column_name',data[\"column\"])`  \n",
    "data[\"column\"] kan ook bewerkt worden bv: `data.withColumn('new_column_name',data[\"column\"]/2)`  \n",
    "Een kolom kan verwijderd worden met `data.drop('column')`  \n",
    "_Verander nu alle sqft kolommen naar m<sup>2</sup> (*0.0929) en verwijder de sqft kolommen._"
   ]
  },
  {
   "cell_type": "code",
   "execution_count": 139,
   "metadata": {},
   "outputs": [],
   "source": [
    "data = data.withColumn(\"m2_living\", data[\"sqft_living\"] * 0.0929)\n",
    "data = data.drop(\"sqft_living\")"
   ]
  },
  {
   "cell_type": "code",
   "execution_count": 140,
   "metadata": {},
   "outputs": [],
   "source": [
    "data = data.withColumn(\"m2_lot\", data[\"sqft_lot\"] * 0.0929)\n",
    "data = data.drop(\"sqft_lot\")"
   ]
  },
  {
   "cell_type": "code",
   "execution_count": 141,
   "metadata": {},
   "outputs": [],
   "source": [
    "data = data.withColumn(\"m2_above\", data[\"sqft_above\"] * 0.0929)\n",
    "data = data.drop(\"sqft_above\")"
   ]
  },
  {
   "cell_type": "code",
   "execution_count": 142,
   "metadata": {},
   "outputs": [],
   "source": [
    "data = data.withColumn(\"m2_basement\", data[\"sqft_basement\"] * 0.0929)\n",
    "data = data.drop(\"sqft_basement\")"
   ]
  },
  {
   "cell_type": "code",
   "execution_count": 143,
   "metadata": {},
   "outputs": [],
   "source": [
    "data = data.withColumn(\"m2_living15\", data[\"sqft_living15\"] * 0.0929)\n",
    "data = data.drop(\"sqft_living15\")"
   ]
  },
  {
   "cell_type": "code",
   "execution_count": 144,
   "metadata": {},
   "outputs": [],
   "source": [
    "data = data.withColumn(\"m2_lot15\", data[\"sqft_lot15\"] * 0.0929)\n",
    "data = data.drop(\"sqft_lot15\")"
   ]
  },
  {
   "cell_type": "markdown",
   "metadata": {},
   "source": [
    "*Is dit een action of transformation?*"
   ]
  },
  {
   "cell_type": "markdown",
   "metadata": {},
   "source": [
    "transformation"
   ]
  },
  {
   "cell_type": "code",
   "execution_count": 19,
   "metadata": {},
   "outputs": [
    {
     "data": {
      "text/plain": [
       "['id',\n",
       " 'price',\n",
       " 'bedrooms',\n",
       " 'bathrooms',\n",
       " 'floors',\n",
       " 'waterfront',\n",
       " 'view',\n",
       " 'condition',\n",
       " 'grade',\n",
       " 'yr_built',\n",
       " 'yr_renovated',\n",
       " 'zipcode',\n",
       " 'm2_living',\n",
       " 'm2_lot',\n",
       " 'm2_above',\n",
       " 'm2_basement',\n",
       " 'm2_living15',\n",
       " 'm2_lot15']"
      ]
     },
     "execution_count": 19,
     "metadata": {},
     "output_type": "execute_result"
    }
   ],
   "source": [
    "data.columns"
   ]
  },
  {
   "cell_type": "markdown",
   "metadata": {},
   "source": [
    "# <span style=\"color:hotpink\"> Filtering and grouping data </span>"
   ]
  },
  {
   "cell_type": "markdown",
   "metadata": {},
   "source": [
    "## <span style=\"color:hotpink\"> Filtering Data </span>\n",
    "\n",
    "Voor het werken met big data is het belangrijk dat je snel je data kan filteren gebaseerd op bepaalde condities.  \n",
    "\n",
    "Je kunt de dataset filteren met behulp van de methode:  \n",
    "`df.filter(df[\"column_name\"] < condition)`  \n",
    "Je kan ook filteren voor meerdere condities met behulp van `|` of `&`\n",
    "\n",
    "*Filter de dataset voor huizen die gebouwd zijn na het jaar 2000, sla dit op onder de variabele `data_2000`*"
   ]
  },
  {
   "cell_type": "code",
   "execution_count": 20,
   "metadata": {},
   "outputs": [],
   "source": [
    "data_2000 = data.filter(data[\"yr_built\"] > 2000)"
   ]
  },
  {
   "cell_type": "markdown",
   "metadata": {},
   "source": [
    "Met de `.count()` methode kan je het aantal gefilterde huizen opvragen.  \n",
    "*Hoeveel huizen bevat `dataset_2000` met minimum 2 slaapkamers en die gelegen zijn aan het waterfront?*"
   ]
  },
  {
   "cell_type": "code",
   "execution_count": 21,
   "metadata": {},
   "outputs": [
    {
     "data": {
      "text/plain": [
       "18"
      ]
     },
     "execution_count": 21,
     "metadata": {},
     "output_type": "execute_result"
    }
   ],
   "source": [
    "data_2000.filter((data[\"bedrooms\"] >= 2) & (data[\"waterfront\"] == 1)).count()"
   ]
  },
  {
   "cell_type": "markdown",
   "metadata": {},
   "source": [
    "## <span style=\"color:hotpink\"> GroupBy and Aggregate Functions </span>\n",
    "\n",
    "De `groupBy('column_name')` functie laat je rijen groeperen gebaseerd op een bepaalde kolom, bijvoorbeeld je kan huizen groeperen volgens bouwjaar.  \n",
    "Eenmaal je de rijen gegroepeerd hebt, kan je meerdere rijen van data aggregeren tot een output, bijvoorbeeld door het nemen van de som van alle inputrijen of de minimum waarde.  \n",
    "*Gebruik de groupBy functie op de `condition` kolom en vraag de minimum waarde op met de `.min()` functie.*"
   ]
  },
  {
   "cell_type": "code",
   "execution_count": 22,
   "metadata": {},
   "outputs": [
    {
     "name": "stdout",
     "output_type": "stream",
     "text": [
      "+---------+--------+----------+-------------+--------------+-----------+---------------+---------+--------------+----------+-------------+-----------------+------------+--------------+-----------+-------------+----------------+------------------+------------------+\n",
      "|condition| min(id)|min(price)|min(bedrooms)|min(bathrooms)|min(floors)|min(waterfront)|min(view)|min(condition)|min(grade)|min(yr_built)|min(yr_renovated)|min(zipcode)|min(m2_living)|min(m2_lot)|min(m2_above)|min(m2_basement)|  min(m2_living15)|     min(m2_lot15)|\n",
      "+---------+--------+----------+-------------+--------------+-----------+---------------+---------+--------------+----------+-------------+-----------------+------------+--------------+-----------+-------------+----------------+------------------+------------------+\n",
      "|        1|40000362|     78000|            0|           0.0|        1.0|              0|        0|             1|         1|         1900|                0|       98004|        26.941|   152.1702|       26.941|             0.0| 79.89399999999999|117.61139999999999|\n",
      "|        3| 1000102|     75000|            0|           0.0|        1.0|              0|        0|             3|         3|         1900|                0|       98001|        35.302|     48.308|       35.302|             0.0|            42.734|           60.4779|\n",
      "|        5| 3600072|    110000|            1|          0.75|        1.0|              0|        0|             5|         3|         1900|                0|       98001|        34.373|   146.8749|       34.373|             0.0|            65.959|          102.0971|\n",
      "|        4| 1200019|     89000|            0|           0.0|        1.0|              0|        0|             4|         4|         1900|                0|       98001|        36.231|    77.3857|       36.231|             0.0|37.067099999999996| 98.65979999999999|\n",
      "|        2| 7200080|     80000|            0|           0.0|        1.0|              0|        0|             2|         3|         1900|                0|       98001|        36.231|    181.155|       36.231|             0.0|             83.61|105.72019999999999|\n",
      "+---------+--------+----------+-------------+--------------+-----------+---------------+---------+--------------+----------+-------------+-----------------+------------+--------------+-----------+-------------+----------------+------------------+------------------+\n",
      "\n"
     ]
    }
   ],
   "source": [
    "data.groupBy(\"condition\").min().show()"
   ]
  },
  {
   "cell_type": "markdown",
   "metadata": {},
   "source": [
    "*Groepeer de rijen volgens de `waterfront` kolom en aggregeer volgens het gemiddelde.*"
   ]
  },
  {
   "cell_type": "code",
   "execution_count": 23,
   "metadata": {},
   "outputs": [
    {
     "name": "stdout",
     "output_type": "stream",
     "text": [
      "+----------+-------------------+------------------+------------------+------------------+------------------+---------------+-------------------+------------------+-----------------+------------------+-----------------+-----------------+------------------+------------------+------------------+-----------------+------------------+------------------+\n",
      "|waterfront|            avg(id)|        avg(price)|     avg(bedrooms)|    avg(bathrooms)|       avg(floors)|avg(waterfront)|          avg(view)|    avg(condition)|       avg(grade)|     avg(yr_built)|avg(yr_renovated)|     avg(zipcode)|    avg(m2_living)|       avg(m2_lot)|     avg(m2_above)| avg(m2_basement)|  avg(m2_living15)|     avg(m2_lot15)|\n",
      "+----------+-------------------+------------------+------------------+------------------+------------------+---------------+-------------------+------------------+-----------------+------------------+-----------------+-----------------+------------------+------------------+------------------+-----------------+------------------+------------------+\n",
      "|         1|4.490511599668712E9|1661876.0245398772|3.3006134969325154|2.6779141104294477|1.6411042944785277|            1.0|  3.766871165644172|3.5337423312883436|8.773006134969325|1962.1901840490798|512.3926380368098|98096.52760736196|294.83553312883424|2357.0428417177923|229.74568957055212|65.08984355828223| 247.7038865030675|2079.5761889570554|\n",
      "|         0|4.580983840545875E9| 531563.5998135199|3.3713752913752915|2.1104778554778556|1.4931934731934733|            0.0|0.20745920745920746|3.4084848484848487|7.648391608391608|1971.0721212121211|81.14993006993006|98077.79855477855|192.45052260139903|  1396.19077379021|165.65816260139712| 26.7923600000001|184.07082133334134|1179.4006244289033|\n",
      "+----------+-------------------+------------------+------------------+------------------+------------------+---------------+-------------------+------------------+-----------------+------------------+-----------------+-----------------+------------------+------------------+------------------+-----------------+------------------+------------------+\n",
      "\n"
     ]
    }
   ],
   "source": [
    "data.groupBy(\"waterfront\").mean().show()"
   ]
  },
  {
   "cell_type": "markdown",
   "metadata": {},
   "source": [
    "Niet alle methoden hebben nood aan een groupby call. In plaats darvan kan je de algemene agg() methode oproepen. \n",
    "Dit kan alle rijen in de dataframe aggregeren in een kolom.  \n",
    "`df.agg({'column_name':'operation'})` de operation kan mean,min,max,count en sum zijn.\n",
    "\n",
    "*Gebruik de algemene agg() methode om de gemiddelde prijs te vinden*"
   ]
  },
  {
   "cell_type": "code",
   "execution_count": 24,
   "metadata": {},
   "outputs": [
    {
     "name": "stdout",
     "output_type": "stream",
     "text": [
      "+-----------------+\n",
      "|       avg(price)|\n",
      "+-----------------+\n",
      "|540088.1417665294|\n",
      "+-----------------+\n",
      "\n"
     ]
    }
   ],
   "source": [
    "data.agg({\"price\": \"mean\"}).show()"
   ]
  },
  {
   "cell_type": "markdown",
   "metadata": {},
   "source": [
    "Deze functie geeft echter een DataFrame terug, wat niet zo handig is bv. als je het gemiddelde nodig hebt om berekeningen uit te voeren. Om enkel het getal terug te krijgen moet je het getal als volgt uit de spark DataFrame halen:  \n",
    "`.collect()[row_number][column_number]`  \n",
    "*Zorg ervoor dat de algemene agg() methode het gemiddelde als getal terug geeft.*"
   ]
  },
  {
   "cell_type": "code",
   "execution_count": 25,
   "metadata": {},
   "outputs": [
    {
     "data": {
      "text/plain": [
       "540088.1417665294"
      ]
     },
     "execution_count": 25,
     "metadata": {},
     "output_type": "execute_result"
    }
   ],
   "source": [
    "data.agg({\"price\": \"mean\"}).collect()[0][0]"
   ]
  },
  {
   "cell_type": "markdown",
   "metadata": {},
   "source": [
    "*Groepeer eerst alle rijen volgens `yr_renovated` en sla dit op als de variabele `grouped`. \n",
    "Gebruik vervolgens de algemene agg() methode om de maximale prijs te vinden per jaar*"
   ]
  },
  {
   "cell_type": "code",
   "execution_count": 26,
   "metadata": {},
   "outputs": [],
   "source": [
    "grouped = data.groupBy(\"yr_renovated\").agg({\"price\": \"max\"})"
   ]
  },
  {
   "cell_type": "code",
   "execution_count": 27,
   "metadata": {},
   "outputs": [
    {
     "name": "stdout",
     "output_type": "stream",
     "text": [
      "+------------+----------+\n",
      "|yr_renovated|max(price)|\n",
      "+------------+----------+\n",
      "|        1959|    397500|\n",
      "|        1990|   1646000|\n",
      "|        1975|    685000|\n",
      "|        1977|   1598890|\n",
      "|        2003|   2888000|\n",
      "|        2007|   2750000|\n",
      "|        1974|    737500|\n",
      "|        2015|   1485000|\n",
      "|        1955|    550000|\n",
      "|        2006|   2160000|\n",
      "|        1978|    655000|\n",
      "|        2013|   2500000|\n",
      "|        1944|    521000|\n",
      "|        1956|   1160000|\n",
      "|        1934|    459950|\n",
      "|        1988|   1900000|\n",
      "|        1997|   1580000|\n",
      "|        1994|   2350000|\n",
      "|        1968|   1245000|\n",
      "|        2014|   1755000|\n",
      "+------------+----------+\n",
      "only showing top 20 rows\n",
      "\n"
     ]
    }
   ],
   "source": [
    "grouped.show()"
   ]
  },
  {
   "cell_type": "markdown",
   "metadata": {},
   "source": [
    "### <span style=\"color:hotpink\"> Samenvattende oefening </span>\n",
    "*wat is de gemiddelde prijs per bouwjaar van huizen die gerenoveerd zijn na 2005, die minimum 3 slaapkamers hebben, die geviewed zijn en die een grade boven 5 hebben?*\n"
   ]
  },
  {
   "cell_type": "code",
   "execution_count": 28,
   "metadata": {
    "scrolled": true
   },
   "outputs": [
    {
     "name": "stdout",
     "output_type": "stream",
     "text": [
      "+--------+----------+\n",
      "|yr_built|avg(price)|\n",
      "+--------+----------+\n",
      "|    1924|  991700.0|\n",
      "|    1955|  660000.0|\n",
      "|    1952|  900000.0|\n",
      "|    1968| 1444000.0|\n",
      "|    1967| 1080000.0|\n",
      "|    1953| 1540000.0|\n",
      "|    1928| 1199000.0|\n",
      "+--------+----------+\n",
      "\n"
     ]
    }
   ],
   "source": [
    "data.filter((data[\"yr_renovated\"] > 2005) & (data[\"bedrooms\"] >= 3) & (data[\"view\"] == 1) & (data[\"grade\"] > 5)).groupBy(\"yr_built\").agg({\"price\": \"mean\"}).show()"
   ]
  },
  {
   "cell_type": "markdown",
   "metadata": {},
   "source": [
    "*Leg met je eigen woorden uit wat het is verschil tussen de `agg()` en de `groupBy()` functie?*"
   ]
  },
  {
   "cell_type": "markdown",
   "metadata": {},
   "source": []
  },
  {
   "cell_type": "markdown",
   "metadata": {},
   "source": [
    "# <span style=\"color:hotpink\"> Machine learning with PySpark </span>\n",
    "\n",
    "Om machine learning te kunnen toepassen met MlLib verwacht spark een format dat 2 kolommen bevat met de namen: \"label\" en \"features\".  \n",
    "De label kolom moet een numerische label bevatten, dit kan een numerische waarde zijn voor regressie of classificatie.  \n",
    "De feature kolom moet een vector van alle features bevatten.  \n",
    "In deze sectie zal je een dataframe omzetten naar het verwachte format en zal je de huisprijzen proberen te voorspellen met lineaire regressie."
   ]
  },
  {
   "cell_type": "code",
   "execution_count": 29,
   "metadata": {},
   "outputs": [],
   "source": [
    "from pyspark.ml.linalg import Vectors\n",
    "from pyspark.ml.feature import VectorAssembler"
   ]
  },
  {
   "cell_type": "markdown",
   "metadata": {},
   "source": [
    "# <span style=\"color:hotpink\"> Prepping the data </span>"
   ]
  },
  {
   "cell_type": "markdown",
   "metadata": {},
   "source": [
    "## <span style=\"color:hotpink\"> Prepping the data </span>\n",
    "Om de data correct voor te bereiden moeten alle features in een kolom onder de vorm van een vector aanwezig zijn.\n",
    "Dit kan bereikt worden met de functies: `assembler = VectorAssembler(inputCols=[list_of_column_names],outputCol='features')`  \n",
    "`new_dataframe = assembler.transform(df)`  \n",
    "*Maak een lijst met alle kolomnamen die gebruikt kunnen worden als features en transformeer ze met de VectorAssembler.*"
   ]
  },
  {
   "cell_type": "code",
   "execution_count": 30,
   "metadata": {
    "scrolled": true
   },
   "outputs": [
    {
     "data": {
      "text/plain": [
       "['id',\n",
       " 'price',\n",
       " 'bedrooms',\n",
       " 'bathrooms',\n",
       " 'floors',\n",
       " 'waterfront',\n",
       " 'view',\n",
       " 'condition',\n",
       " 'grade',\n",
       " 'yr_built',\n",
       " 'yr_renovated',\n",
       " 'zipcode',\n",
       " 'm2_living',\n",
       " 'm2_lot',\n",
       " 'm2_above',\n",
       " 'm2_basement',\n",
       " 'm2_living15',\n",
       " 'm2_lot15']"
      ]
     },
     "execution_count": 30,
     "metadata": {},
     "output_type": "execute_result"
    }
   ],
   "source": [
    "data.columns"
   ]
  },
  {
   "cell_type": "code",
   "execution_count": 72,
   "metadata": {},
   "outputs": [],
   "source": [
    "assembler = VectorAssembler(inputCols=['bedrooms',\n",
    " 'bathrooms',\n",
    " 'floors',\n",
    " 'waterfront',\n",
    " 'view',\n",
    " 'condition',\n",
    " 'grade',\n",
    " 'yr_built',\n",
    " 'yr_renovated',\n",
    " 'm2_living',\n",
    " 'm2_lot',\n",
    " 'm2_above',\n",
    " 'm2_basement',\n",
    " 'm2_living15',\n",
    " 'm2_lot15'],\n",
    "outputCol = \"features\")"
   ]
  },
  {
   "cell_type": "code",
   "execution_count": 73,
   "metadata": {},
   "outputs": [],
   "source": [
    "new_data = assembler.transform(data)"
   ]
  },
  {
   "cell_type": "markdown",
   "metadata": {},
   "source": [
    "## <span style=\"color:hotpink\"> Splitsen in train en test data </span>\n",
    "\n",
    "Om de data op te delen in train en test data kun je de volgende functie gebruiken:  \n",
    "`train_data,test_data = df.randomSplit([float1,float2])`  \n",
    "*Splits nu de data op waarbij 80% van de data train data is.*"
   ]
  },
  {
   "cell_type": "code",
   "execution_count": 74,
   "metadata": {},
   "outputs": [],
   "source": [
    "train_data, test_data = new_data.randomSplit([0.8, 0.2])"
   ]
  },
  {
   "cell_type": "markdown",
   "metadata": {},
   "source": [
    "## <span style=\"color:hotpink\"> Runnen algoritme </span>\n",
    "\n",
    "We zullen in dit labo werken met lineaire regressie. De te gebruiken functies zijn:  \n",
    "`lr = LinearRegression(labelCol = 'column_name_target', featuresCol = 'column_name_features', regParam = float)`  \n",
    "`model = lr.fit(train_data)`  \n",
    "de parameter `regParam` == lambda."
   ]
  },
  {
   "cell_type": "code",
   "execution_count": 75,
   "metadata": {},
   "outputs": [],
   "source": [
    "lr = LinearRegression(labelCol = \"price\", featuresCol = \"features\", regParam = 0.1)"
   ]
  },
  {
   "cell_type": "code",
   "execution_count": 76,
   "metadata": {},
   "outputs": [],
   "source": [
    "model = lr.fit(train_data)"
   ]
  },
  {
   "cell_type": "code",
   "execution_count": 77,
   "metadata": {},
   "outputs": [],
   "source": [
    "results = model.evaluate(test_data)"
   ]
  },
  {
   "cell_type": "code",
   "execution_count": 78,
   "metadata": {
    "scrolled": true
   },
   "outputs": [
    {
     "name": "stdout",
     "output_type": "stream",
     "text": [
      "+-------------------+\n",
      "|          residuals|\n",
      "+-------------------+\n",
      "| 37095.743438228965|\n",
      "|-10858.406218484044|\n",
      "| -84716.27519575693|\n",
      "| -89420.07785481587|\n",
      "| 133561.65012773126|\n",
      "| -47148.08892013971|\n",
      "|-11069.025864235125|\n",
      "|-205019.14883278124|\n",
      "|-432172.22158306837|\n",
      "|  174642.1756992489|\n",
      "| 252554.39445113204|\n",
      "|-111626.63180756755|\n",
      "|-201314.12648160942|\n",
      "| -519683.6505952431|\n",
      "| -95561.82785819471|\n",
      "| -49836.17679054104|\n",
      "| 186176.25101668388|\n",
      "|  51594.29104369134|\n",
      "|-151596.89982040506|\n",
      "|-193710.23481597845|\n",
      "+-------------------+\n",
      "only showing top 20 rows\n",
      "\n"
     ]
    }
   ],
   "source": [
    "results.residuals.show()"
   ]
  },
  {
   "cell_type": "code",
   "execution_count": 80,
   "metadata": {},
   "outputs": [
    {
     "data": {
      "text/plain": [
       "0.6448942668204344"
      ]
     },
     "execution_count": 80,
     "metadata": {},
     "output_type": "execute_result"
    }
   ],
   "source": [
    "results.r2"
   ]
  },
  {
   "cell_type": "markdown",
   "metadata": {},
   "source": [
    "*Extra oefening: maak zelf een min-max scaler met de geziene functies en pas deze toe op de dataset. Resulteert dit in een betere RMSE?*"
   ]
  },
  {
   "cell_type": "markdown",
   "metadata": {},
   "source": [
    "Nope, it does not"
   ]
  },
  {
   "cell_type": "code",
   "execution_count": 195,
   "metadata": {},
   "outputs": [],
   "source": [
    "columns_backup = data.columns"
   ]
  },
  {
   "cell_type": "code",
   "execution_count": 196,
   "metadata": {},
   "outputs": [],
   "source": [
    "data_backup = data"
   ]
  },
  {
   "cell_type": "code",
   "execution_count": 197,
   "metadata": {},
   "outputs": [],
   "source": [
    "def MinMaxScaler(column_name, data):\n",
    "    new_data = (data[column_name] - data.agg({column_name: \"min\"}).collect()[0][0]) / (data.agg({column_name: \"max\"}).collect()[0][0] - data.agg({column_name: \"min\"}).collect()[0][0])\n",
    "    return new_data"
   ]
  },
  {
   "cell_type": "code",
   "execution_count": 198,
   "metadata": {},
   "outputs": [],
   "source": [
    "for column in columns_backup[2:]:\n",
    "    data_backup = data_backup.withColumn(\"scaled_\" + column, MinMaxScaler(column, data_backup))\n",
    "    data_backup = data_backup.drop(column)"
   ]
  },
  {
   "cell_type": "code",
   "execution_count": 199,
   "metadata": {},
   "outputs": [
    {
     "name": "stdout",
     "output_type": "stream",
     "text": [
      "+----------+-------+-------------------+----------------+-------------+-----------------+-----------+----------------+------------------+-------------------+-------------------+--------------------+--------------------+--------------------+--------------------+-------------------+-------------------+--------------------+\n",
      "|        id|  price|    scaled_bedrooms|scaled_bathrooms|scaled_floors|scaled_waterfront|scaled_view|scaled_condition|      scaled_grade|    scaled_yr_built|scaled_yr_renovated|      scaled_zipcode|    scaled_m2_living|       scaled_m2_lot|     scaled_m2_above| scaled_m2_basement| scaled_m2_living15|     scaled_m2_lot15|\n",
      "+----------+-------+-------------------+----------------+-------------+-----------------+-----------+----------------+------------------+-------------------+-------------------+--------------------+--------------------+--------------------+--------------------+-------------------+-------------------+--------------------+\n",
      "|7129300520| 221900|0.09090909090909091|           0.125|          0.0|              0.0|        0.0|             0.5|               0.5| 0.4782608695652174|                0.0|  0.8939393939393939| 0.06716981132075472|0.003107510786939...| 0.09758771929824561|                0.0|0.16193426260540353|0.005742353388493...|\n",
      "|6414100192| 538000|0.09090909090909091|         0.28125|          0.4|              0.0|        0.0|             0.5|               0.5| 0.4434782608695652| 0.9880893300248139|  0.6262626262626263|  0.1720754716981132|0.004071868910293493| 0.20614035087719298|0.08298755186721991|0.22216485974875239|0.008027118519463005|\n",
      "|5631500400| 180000|0.06060606060606061|           0.125|          0.0|              0.0|        0.0|             0.5|0.4166666666666667|0.28695652173913044|                0.0| 0.13636363636363635|0.036226415094339624|0.005742534553642118|0.052631578947368425|                0.0| 0.3994149027706075|0.008513018796184936|\n",
      "|2487200875| 604000|0.12121212121212122|           0.375|          0.0|              0.0|        0.0|             1.0|               0.5| 0.5652173913043478|                0.0|  0.6818181818181818| 0.12603773584905661|0.002713771603408...| 0.08333333333333334|0.18879668049792533| 0.1653760110135949|0.004995698116935406|\n",
      "|1954400510| 510000|0.09090909090909091|            0.25|          0.0|              0.0|        0.0|             0.5|0.5833333333333334| 0.7565217391304347|                0.0|  0.3686868686868687| 0.10490566037735849|0.004579489580752...|  0.1524122807017544|                0.0|0.24109447599380482|0.007870895262644607|\n",
      "|7237550310|1225000|0.12121212121212122|          0.5625|          0.0|              0.0|        0.0|             0.5|0.8333333333333334| 0.8782608695652174|                0.0| 0.26262626262626265| 0.38716981132075473| 0.06142937015662944| 0.39473684210526316| 0.3174273858921162| 0.7504732404061264| 0.11633922961257782|\n",
      "|1321400060| 257500|0.09090909090909091|         0.28125|          0.4|              0.0|        0.0|             0.5|               0.5| 0.8260869565217391|                0.0|0.010101010101010102| 0.10754716981132076|0.003815635564703...|             0.15625|                0.0|0.31646876613319563|0.007085184176881486|\n",
      "|2008000270| 291850|0.09090909090909091|          0.1875|          0.0|              0.0|        0.0|             0.5|               0.5| 0.5478260869565217|                0.0|  0.9949494949494949|  0.0581132075471698|0.005567472055118639|  0.0844298245614035|                0.0|0.21528136293236963|0.010407225785108018|\n",
      "|2414600126| 229500|0.09090909090909091|           0.125|          0.0|              0.0|        0.0|             0.5|               0.5| 0.5217391304347826|                0.0|  0.7323232323232324| 0.11245283018867924|0.004209980500824126| 0.08333333333333334|0.15145228215767634|0.23765272758561345|0.008571602517491835|\n",
      "|3793500160| 323000|0.09090909090909091|          0.3125|          0.4|              0.0|        0.0|             0.5|               0.5| 0.8956521739130435|                0.0| 0.18686868686868688| 0.12075471698113206|0.003658745643881687| 0.17543859649122806|                0.0|0.34262605403544993|0.007947858190636023|\n",
      "|1736800520| 662500|0.09090909090909091|          0.3125|          0.0|              0.0|        0.0|             0.5|0.5833333333333334| 0.5652173913043478|                0.0|0.030303030303030304|  0.2467924528301887|0.005618961025272604| 0.17214912280701752|0.35269709543568467|0.31165031836172774|0.009504347256731096|\n",
      "|9212900260| 468000|0.06060606060606061|           0.125|          0.0|              0.0|        0.0|            0.75|               0.5| 0.3652173913043478|                0.0|  0.5757575757575758| 0.06566037735849056| 0.00331952419345557| 0.06249999999999999|0.06224066390041494|0.16021338840130786|0.006144398534717747|\n",
      "| 114101516| 310000|0.09090909090909091|           0.125|          0.2|              0.0|        0.0|            0.75|               0.5|0.23478260869565218|                0.0| 0.13636363636363635|  0.0860377358490566| 0.01174009094769387| 0.12500000000000003|                0.0|0.23765272758561345|0.013837245232606089|\n",
      "|6054650070| 400000|0.09090909090909091|         0.21875|          0.0|              0.0|        0.0|            0.75|               0.5| 0.6695652173913044|                0.0|  0.3686868686868687| 0.08150943396226415|0.005548693724827193| 0.11842105263157895|                0.0| 0.1670968852176906|0.010978129892745842|\n",
      "|1175000570| 530000|0.15151515151515152|            0.25|          0.2|              0.0|        0.0|             0.5|               0.5|                0.0|                0.0|  0.5353535353535354| 0.11471698113207547|0.002622908714901...| 0.16666666666666669|                0.0| 0.1653760110135949|0.004823393054268054|\n",
      "|9297300055| 650000|0.12121212121212122|           0.375|          0.4|              0.0|       0.75|             0.5|0.6666666666666666| 0.6869565217391305|                0.0|  0.6313131313131313|  0.2007547169811321|0.002713771603408...| 0.18530701754385964| 0.2012448132780083|  0.299604198933058|0.003846997699153063|\n",
      "|1875500060| 395000|0.09090909090909091|            0.25|          0.4|              0.0|        0.0|             0.5|               0.5| 0.8173913043478261|                0.0| 0.09090909090909091| 0.12075471698113206| 0.00818977501743053| 0.17543859649122806|                0.0| 0.2565823438306659|0.015354678484496563|\n",
      "|6865200140| 485000|0.12121212121212122|           0.125|          0.2|              0.0|        0.0|            0.75|               0.5| 0.1391304347826087|                0.0|  0.5151515151515151| 0.09886792452830188|0.002289744790376...| 0.14364035087719298|                0.0| 0.2083978661159869|0.004191607824487766|\n",
      "|  16000397| 189000|0.06060606060606061|           0.125|          0.0|              0.0|        0.0|            0.75|               0.5| 0.1826086956521739|                0.0|0.005050505050505051| 0.06867924528301886|0.005651671665135122| 0.09978070175438596|                0.0|0.11374978489072447|0.005104824656624728|\n",
      "|7983200060| 230000|0.09090909090909091|           0.125|          0.0|              0.0|        0.0|            0.75|               0.5|                0.6|                0.0|0.010101010101010102| 0.07245283018867925|0.005605634468291577| 0.10526315789473685|                0.0|0.15160901738082946|0.009418194725397422|\n",
      "+----------+-------+-------------------+----------------+-------------+-----------------+-----------+----------------+------------------+-------------------+-------------------+--------------------+--------------------+--------------------+--------------------+-------------------+-------------------+--------------------+\n",
      "only showing top 20 rows\n",
      "\n"
     ]
    }
   ],
   "source": [
    "data_backup.show()"
   ]
  },
  {
   "cell_type": "code",
   "execution_count": 200,
   "metadata": {},
   "outputs": [],
   "source": [
    "assembler = VectorAssembler(inputCols=data_backup.columns[2:], outputCol = \"features\")"
   ]
  },
  {
   "cell_type": "code",
   "execution_count": 201,
   "metadata": {},
   "outputs": [],
   "source": [
    "new_data = assembler.transform(data_backup)"
   ]
  },
  {
   "cell_type": "code",
   "execution_count": 202,
   "metadata": {},
   "outputs": [],
   "source": [
    "train_data, test_data = new_data.randomSplit([0.8, 0.2])"
   ]
  },
  {
   "cell_type": "code",
   "execution_count": 206,
   "metadata": {},
   "outputs": [],
   "source": [
    "lr = LinearRegression(labelCol = \"price\", featuresCol = \"features\", regParam = 0.1)"
   ]
  },
  {
   "cell_type": "code",
   "execution_count": 207,
   "metadata": {},
   "outputs": [],
   "source": [
    "model = lr.fit(train_data)"
   ]
  },
  {
   "cell_type": "code",
   "execution_count": 208,
   "metadata": {},
   "outputs": [],
   "source": [
    "results = model.evaluate(test_data)"
   ]
  },
  {
   "cell_type": "code",
   "execution_count": 209,
   "metadata": {
    "scrolled": true
   },
   "outputs": [
    {
     "name": "stdout",
     "output_type": "stream",
     "text": [
      "+-------------------+\n",
      "|          residuals|\n",
      "+-------------------+\n",
      "| 32902.794918488245|\n",
      "| -1527.016520125675|\n",
      "| 117162.35398686957|\n",
      "|-174597.92151874118|\n",
      "| -85174.94747993245|\n",
      "|-113701.55952548946|\n",
      "| 138195.45636979106|\n",
      "| -76510.82654485095|\n",
      "|-48699.073610318475|\n",
      "|-28219.026139357942|\n",
      "| -9673.622785771498|\n",
      "|-315984.26151442947|\n",
      "| -304744.6526441891|\n",
      "| -279434.4997689226|\n",
      "|-120866.93715086358|\n",
      "| 14984.191792541067|\n",
      "| 19291.184769256623|\n",
      "|   131834.833220982|\n",
      "| -351978.8274748726|\n",
      "|-202262.21154159016|\n",
      "+-------------------+\n",
      "only showing top 20 rows\n",
      "\n"
     ]
    }
   ],
   "source": [
    "results.residuals.show()"
   ]
  },
  {
   "cell_type": "code",
   "execution_count": 210,
   "metadata": {},
   "outputs": [
    {
     "data": {
      "text/plain": [
       "207094.03607339706"
      ]
     },
     "execution_count": 210,
     "metadata": {},
     "output_type": "execute_result"
    }
   ],
   "source": [
    "results.rootMeanSquaredError"
   ]
  },
  {
   "cell_type": "code",
   "execution_count": 211,
   "metadata": {},
   "outputs": [
    {
     "data": {
      "text/plain": [
       "0.6220336236291849"
      ]
     },
     "execution_count": 211,
     "metadata": {},
     "output_type": "execute_result"
    }
   ],
   "source": [
    "results.r2"
   ]
  },
  {
   "cell_type": "code",
   "execution_count": null,
   "metadata": {},
   "outputs": [],
   "source": []
  }
 ],
 "metadata": {
  "kernelspec": {
   "display_name": "Python 2 Spark - local",
   "language": "python",
   "name": "spark-python"
  },
  "language_info": {
   "codemirror_mode": {
    "name": "ipython",
    "version": 2
   },
   "file_extension": ".py",
   "mimetype": "text/x-python",
   "name": "python",
   "nbconvert_exporter": "python",
   "pygments_lexer": "ipython2",
   "version": "2.7.15"
  }
 },
 "nbformat": 4,
 "nbformat_minor": 2
}

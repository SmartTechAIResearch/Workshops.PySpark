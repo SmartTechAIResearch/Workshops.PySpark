{
 "cells": [
  {
   "cell_type": "markdown",
   "metadata": {},
   "source": [
    "# <span style=\"color:red\"> PySpark labo met oplossingen </span>"
   ]
  },
  {
   "cell_type": "markdown",
   "metadata": {},
   "source": [
    "Tijdens dit PySpark labo zal je de PySpark basics leren.  \n",
    "De dataset waarmee gewerkt zal worden is data over huizen in king county en op het einde zal je de prijs van een huis proberen te voorspellen aan de hand van lineaire regressie.  \n",
    "De kolommen aanwezig zijn in de dataset en hun beschrijving zijn:  \n",
    "`price`: prediction target  \n",
    "`bedrooms`: number of bedrooms/house  \n",
    "`bathrooms`: number of bathrooms/house  \n",
    "`sqft_living`: square footage of the home  \n",
    "`sqft_lot`: square footage of the lot  \n",
    "`floors`: Total floors(levels) in a house  \n",
    "`waterfront`: House which has a view to a waterfront  \n",
    "`view`: Has been viewed  \n",
    "`condition`: How good the condition overall is  \n",
    "`grade`: overall grade given to the housing unit, based on King County grading system  \n",
    "`sqft_above`: square footage of house apart from basement  \n",
    "`sqft_basement`: square footage of the basement  \n",
    "`yr_built`: built year  \n",
    "`yr_renovated`: Year when house was renovated  \n",
    "`zipcode`: zip  \n",
    "`sqft_living15`: Living room area in 2015(implies some renovations) This might or might not have affected the lotsize area\n",
    "`sqft_lot15`: LotSize area in 2015(implies some renovation) "
   ]
  },
  {
   "cell_type": "code",
   "execution_count": 1,
   "metadata": {},
   "outputs": [],
   "source": [
    "import findspark\n",
    "findspark.init('/home/marie/spark')\n",
    "from pyspark.sql import SparkSession\n",
    "from pyspark.ml.regression import LinearRegression"
   ]
  },
  {
   "cell_type": "markdown",
   "metadata": {},
   "source": [
    "tekstje schrijven over waarom sparksession nodig? "
   ]
  },
  {
   "cell_type": "code",
   "execution_count": 2,
   "metadata": {},
   "outputs": [],
   "source": [
    "spark = SparkSession.builder.appName('lrex').getOrCreate()"
   ]
  },
  {
   "cell_type": "markdown",
   "metadata": {},
   "source": [
    "de data kan ingelezen worden met de functie: `spark.read.csv()`  \n",
    "*laad de data kc_house_data.csv in en zet de parameters `inferSchema` en `header` op True*"
   ]
  },
  {
   "cell_type": "code",
   "execution_count": 38,
   "metadata": {},
   "outputs": [],
   "source": [
    "data = spark.read.csv('kc_house_data.csv',inferSchema=True,header=True)"
   ]
  },
  {
   "cell_type": "markdown",
   "metadata": {},
   "source": [
    "de functie `printSchema()` toont alle kolommen en het type waarden dat hierin aanwezig zijn.  "
   ]
  },
  {
   "cell_type": "code",
   "execution_count": 39,
   "metadata": {},
   "outputs": [
    {
     "name": "stdout",
     "output_type": "stream",
     "text": [
      "root\n",
      " |-- id: long (nullable = true)\n",
      " |-- date: string (nullable = true)\n",
      " |-- price: decimal(7,0) (nullable = true)\n",
      " |-- bedrooms: integer (nullable = true)\n",
      " |-- bathrooms: double (nullable = true)\n",
      " |-- sqft_living: integer (nullable = true)\n",
      " |-- sqft_lot: integer (nullable = true)\n",
      " |-- floors: double (nullable = true)\n",
      " |-- waterfront: integer (nullable = true)\n",
      " |-- view: integer (nullable = true)\n",
      " |-- condition: integer (nullable = true)\n",
      " |-- grade: integer (nullable = true)\n",
      " |-- sqft_above: integer (nullable = true)\n",
      " |-- sqft_basement: integer (nullable = true)\n",
      " |-- yr_built: integer (nullable = true)\n",
      " |-- yr_renovated: integer (nullable = true)\n",
      " |-- zipcode: integer (nullable = true)\n",
      " |-- lat: double (nullable = true)\n",
      " |-- long: double (nullable = true)\n",
      " |-- sqft_living15: integer (nullable = true)\n",
      " |-- sqft_lot15: integer (nullable = true)\n",
      "\n"
     ]
    }
   ],
   "source": [
    "data.printSchema() "
   ]
  },
  {
   "cell_type": "markdown",
   "metadata": {},
   "source": [
    "*Wat is het type waarden aanwezig in de kolom sqft_basement?*"
   ]
  },
  {
   "cell_type": "markdown",
   "metadata": {},
   "source": []
  },
  {
   "cell_type": "code",
   "execution_count": 5,
   "metadata": {},
   "outputs": [],
   "source": [
    "data = data.drop('date')\n",
    "data = data.drop('long')\n",
    "data = data.drop('lat')"
   ]
  },
  {
   "cell_type": "code",
   "execution_count": 6,
   "metadata": {},
   "outputs": [
    {
     "name": "stdout",
     "output_type": "stream",
     "text": [
      "+----------+-------+--------+---------+-----------+--------+------+----------+----+---------+-----+----------+-------------+--------+------------+-------+-------------+----------+\n",
      "|        id|  price|bedrooms|bathrooms|sqft_living|sqft_lot|floors|waterfront|view|condition|grade|sqft_above|sqft_basement|yr_built|yr_renovated|zipcode|sqft_living15|sqft_lot15|\n",
      "+----------+-------+--------+---------+-----------+--------+------+----------+----+---------+-----+----------+-------------+--------+------------+-------+-------------+----------+\n",
      "|7129300520| 221900|       3|      1.0|       1180|    5650|   1.0|         0|   0|        3|    7|      1180|            0|    1955|           0|  98178|         1340|      5650|\n",
      "|6414100192| 538000|       3|     2.25|       2570|    7242|   2.0|         0|   0|        3|    7|      2170|          400|    1951|        1991|  98125|         1690|      7639|\n",
      "|5631500400| 180000|       2|      1.0|        770|   10000|   1.0|         0|   0|        3|    6|       770|            0|    1933|           0|  98028|         2720|      8062|\n",
      "|2487200875| 604000|       4|      3.0|       1960|    5000|   1.0|         0|   0|        5|    7|      1050|          910|    1965|           0|  98136|         1360|      5000|\n",
      "|1954400510| 510000|       3|      2.0|       1680|    8080|   1.0|         0|   0|        3|    8|      1680|            0|    1987|           0|  98074|         1800|      7503|\n",
      "|7237550310|1225000|       4|      4.5|       5420|  101930|   1.0|         0|   0|        3|   11|      3890|         1530|    2001|           0|  98053|         4760|    101930|\n",
      "|1321400060| 257500|       3|     2.25|       1715|    6819|   2.0|         0|   0|        3|    7|      1715|            0|    1995|           0|  98003|         2238|      6819|\n",
      "|2008000270| 291850|       3|      1.5|       1060|    9711|   1.0|         0|   0|        3|    7|      1060|            0|    1963|           0|  98198|         1650|      9711|\n",
      "|2414600126| 229500|       3|      1.0|       1780|    7470|   1.0|         0|   0|        3|    7|      1050|          730|    1960|           0|  98146|         1780|      8113|\n",
      "|3793500160| 323000|       3|      2.5|       1890|    6560|   2.0|         0|   0|        3|    7|      1890|            0|    2003|           0|  98038|         2390|      7570|\n",
      "|1736800520| 662500|       3|      2.5|       3560|    9796|   1.0|         0|   0|        3|    8|      1860|         1700|    1965|           0|  98007|         2210|      8925|\n",
      "|9212900260| 468000|       2|      1.0|       1160|    6000|   1.0|         0|   0|        4|    7|       860|          300|    1942|           0|  98115|         1330|      6000|\n",
      "| 114101516| 310000|       3|      1.0|       1430|   19901|   1.5|         0|   0|        4|    7|      1430|            0|    1927|           0|  98028|         1780|     12697|\n",
      "|6054650070| 400000|       3|     1.75|       1370|    9680|   1.0|         0|   0|        4|    7|      1370|            0|    1977|           0|  98074|         1370|     10208|\n",
      "|1175000570| 530000|       5|      2.0|       1810|    4850|   1.5|         0|   0|        3|    7|      1810|            0|    1900|           0|  98107|         1360|      4850|\n",
      "|9297300055| 650000|       4|      3.0|       2950|    5000|   2.0|         0|   3|        3|    9|      1980|          970|    1979|           0|  98126|         2140|      4000|\n",
      "|1875500060| 395000|       3|      2.0|       1890|   14040|   2.0|         0|   0|        3|    7|      1890|            0|    1994|           0|  98019|         1890|     14018|\n",
      "|6865200140| 485000|       4|      1.0|       1600|    4300|   1.5|         0|   0|        4|    7|      1600|            0|    1916|           0|  98103|         1610|      4300|\n",
      "|  16000397| 189000|       2|      1.0|       1200|    9850|   1.0|         0|   0|        4|    7|      1200|            0|    1921|           0|  98002|         1060|      5095|\n",
      "|7983200060| 230000|       3|      1.0|       1250|    9774|   1.0|         0|   0|        4|    7|      1250|            0|    1969|           0|  98003|         1280|      8850|\n",
      "+----------+-------+--------+---------+-----------+--------+------+----------+----+---------+-----+----------+-------------+--------+------------+-------+-------------+----------+\n",
      "only showing top 20 rows\n",
      "\n"
     ]
    }
   ],
   "source": [
    "data.show()"
   ]
  },
  {
   "cell_type": "code",
   "execution_count": 8,
   "metadata": {},
   "outputs": [
    {
     "data": {
      "text/plain": [
       "['id',\n",
       " 'price',\n",
       " 'bedrooms',\n",
       " 'bathrooms',\n",
       " 'sqft_living',\n",
       " 'sqft_lot',\n",
       " 'floors',\n",
       " 'waterfront',\n",
       " 'view',\n",
       " 'condition',\n",
       " 'grade',\n",
       " 'sqft_above',\n",
       " 'sqft_basement',\n",
       " 'yr_built',\n",
       " 'yr_renovated',\n",
       " 'zipcode',\n",
       " 'sqft_living15',\n",
       " 'sqft_lot15']"
      ]
     },
     "execution_count": 8,
     "metadata": {},
     "output_type": "execute_result"
    }
   ],
   "source": [
    "data.columns"
   ]
  },
  {
   "cell_type": "code",
   "execution_count": 9,
   "metadata": {},
   "outputs": [],
   "source": [
    "#data.describe()?"
   ]
  },
  {
   "cell_type": "markdown",
   "metadata": {},
   "source": [
    "# <span style=\"color:green\"> selecteren van kolommen </span>\n",
    "Je kan een kolom selecteren aan de hand van de methode:  \n",
    "`df[\"column_name\"]`  \n",
    "selecteer de kolom condition"
   ]
  },
  {
   "cell_type": "code",
   "execution_count": 10,
   "metadata": {},
   "outputs": [
    {
     "data": {
      "text/plain": [
       "Column<condition>"
      ]
     },
     "execution_count": 10,
     "metadata": {},
     "output_type": "execute_result"
    }
   ],
   "source": [
    "data['condition']"
   ]
  },
  {
   "cell_type": "markdown",
   "metadata": {},
   "source": [
    "Het verkregen type is een Column, maar met de functie `df.select('column_name')` krijg je een dataframe terug, die veelzijdiger is dan het type Column. Selecteer opnieuw de kolom condition maar nu als dataframe"
   ]
  },
  {
   "cell_type": "code",
   "execution_count": 11,
   "metadata": {},
   "outputs": [
    {
     "data": {
      "text/plain": [
       "DataFrame[condition: int]"
      ]
     },
     "execution_count": 11,
     "metadata": {},
     "output_type": "execute_result"
    }
   ],
   "source": [
    "data.select('condition')"
   ]
  },
  {
   "cell_type": "markdown",
   "metadata": {},
   "source": [
    "Om de inhoud van de geselecteerde kolom weer te geven moet je de methode `.show` aanroepen."
   ]
  },
  {
   "cell_type": "code",
   "execution_count": 12,
   "metadata": {},
   "outputs": [
    {
     "name": "stdout",
     "output_type": "stream",
     "text": [
      "+---------+\n",
      "|condition|\n",
      "+---------+\n",
      "|        3|\n",
      "|        3|\n",
      "|        3|\n",
      "|        5|\n",
      "|        3|\n",
      "|        3|\n",
      "|        3|\n",
      "|        3|\n",
      "|        3|\n",
      "|        3|\n",
      "|        3|\n",
      "|        4|\n",
      "|        4|\n",
      "|        4|\n",
      "|        3|\n",
      "|        3|\n",
      "|        3|\n",
      "|        4|\n",
      "|        4|\n",
      "|        4|\n",
      "+---------+\n",
      "only showing top 20 rows\n",
      "\n"
     ]
    }
   ],
   "source": [
    "data.select('condition').show()"
   ]
  },
  {
   "cell_type": "markdown",
   "metadata": {},
   "source": [
    "Je kan ook meerdere kolommen selecteren "
   ]
  },
  {
   "cell_type": "markdown",
   "metadata": {},
   "source": [
    "`data.head(n)` geeft de eerste n rijen terug als lijst.  \n",
    "print de eerste 5 rijen\n"
   ]
  },
  {
   "cell_type": "code",
   "execution_count": 13,
   "metadata": {},
   "outputs": [
    {
     "data": {
      "text/plain": [
       "[Row(id=7129300520, price=Decimal('221900'), bedrooms=3, bathrooms=1.0, sqft_living=1180, sqft_lot=5650, floors=1.0, waterfront=0, view=0, condition=3, grade=7, sqft_above=1180, sqft_basement=0, yr_built=1955, yr_renovated=0, zipcode=98178, sqft_living15=1340, sqft_lot15=5650),\n",
       " Row(id=6414100192, price=Decimal('538000'), bedrooms=3, bathrooms=2.25, sqft_living=2570, sqft_lot=7242, floors=2.0, waterfront=0, view=0, condition=3, grade=7, sqft_above=2170, sqft_basement=400, yr_built=1951, yr_renovated=1991, zipcode=98125, sqft_living15=1690, sqft_lot15=7639),\n",
       " Row(id=5631500400, price=Decimal('180000'), bedrooms=2, bathrooms=1.0, sqft_living=770, sqft_lot=10000, floors=1.0, waterfront=0, view=0, condition=3, grade=6, sqft_above=770, sqft_basement=0, yr_built=1933, yr_renovated=0, zipcode=98028, sqft_living15=2720, sqft_lot15=8062),\n",
       " Row(id=2487200875, price=Decimal('604000'), bedrooms=4, bathrooms=3.0, sqft_living=1960, sqft_lot=5000, floors=1.0, waterfront=0, view=0, condition=5, grade=7, sqft_above=1050, sqft_basement=910, yr_built=1965, yr_renovated=0, zipcode=98136, sqft_living15=1360, sqft_lot15=5000),\n",
       " Row(id=1954400510, price=Decimal('510000'), bedrooms=3, bathrooms=2.0, sqft_living=1680, sqft_lot=8080, floors=1.0, waterfront=0, view=0, condition=3, grade=8, sqft_above=1680, sqft_basement=0, yr_built=1987, yr_renovated=0, zipcode=98074, sqft_living15=1800, sqft_lot15=7503)]"
      ]
     },
     "execution_count": 13,
     "metadata": {},
     "output_type": "execute_result"
    }
   ],
   "source": [
    "data.head(5)"
   ]
  },
  {
   "cell_type": "markdown",
   "metadata": {},
   "source": [
    "je kan met `data.head()` ook een specifieke rij of een bepaalde waarde selecteren met behulp van:  \n",
    "`data.head(n)[row_number][column_number]`  \n",
    "*1) selecteer de 4de rij*  \n",
    "*2) selecteer prijs op de 3de rij*"
   ]
  },
  {
   "cell_type": "code",
   "execution_count": 14,
   "metadata": {},
   "outputs": [
    {
     "data": {
      "text/plain": [
       "Row(id=2487200875, price=Decimal('604000'), bedrooms=4, bathrooms=3.0, sqft_living=1960, sqft_lot=5000, floors=1.0, waterfront=0, view=0, condition=5, grade=7, sqft_above=1050, sqft_basement=910, yr_built=1965, yr_renovated=0, zipcode=98136, sqft_living15=1360, sqft_lot15=5000)"
      ]
     },
     "execution_count": 14,
     "metadata": {},
     "output_type": "execute_result"
    }
   ],
   "source": [
    "data.head(5)[3]"
   ]
  },
  {
   "cell_type": "code",
   "execution_count": 15,
   "metadata": {},
   "outputs": [
    {
     "data": {
      "text/plain": [
       "Decimal('180000')"
      ]
     },
     "execution_count": 15,
     "metadata": {},
     "output_type": "execute_result"
    }
   ],
   "source": [
    "data.head(5)[2][1]"
   ]
  },
  {
   "cell_type": "markdown",
   "metadata": {},
   "source": [
    "*Is dit een action of transformation?*"
   ]
  },
  {
   "cell_type": "code",
   "execution_count": null,
   "metadata": {},
   "outputs": [],
   "source": []
  },
  {
   "cell_type": "markdown",
   "metadata": {},
   "source": [
    "# <span style=\"color:green\"> Creating a new column and dropping columns </span>"
   ]
  },
  {
   "cell_type": "markdown",
   "metadata": {},
   "source": [
    "Je kan een nieuwe kolom aanmaken met de functie: `data.withColumn('new_column_name',data[\"column\"])`  \n",
    "data[\"column\"] kan ook bewerkt worden bv: `data.withColumn('new_column_name',data[\"column\"]/2)`  \n",
    "een kolom kan ook verwijdert worden met `data.drop('column')`  \n",
    "_verander nu alle sqft kolommen naar m2 (*0.0929) en verwijder de sqft kolommen._"
   ]
  },
  {
   "cell_type": "code",
   "execution_count": 16,
   "metadata": {},
   "outputs": [],
   "source": [
    "def to_m2(new_name,old_column,dataset):\n",
    "    dataset = dataset.withColumn(new_name,dataset[old_column]*0.0929)\n",
    "    dataset = dataset.drop(old_column)\n",
    "    return dataset"
   ]
  },
  {
   "cell_type": "code",
   "execution_count": 17,
   "metadata": {},
   "outputs": [],
   "source": [
    "data = to_m2('m2_living','sqft_living',data)\n",
    "data = to_m2('m2_lot','sqft_lot',data)\n",
    "data = to_m2('m2_living15','sqft_living15',data)\n",
    "data = to_m2('m2_lot15','sqft_lot15',data)"
   ]
  },
  {
   "cell_type": "code",
   "execution_count": 18,
   "metadata": {},
   "outputs": [
    {
     "data": {
      "text/plain": [
       "['id',\n",
       " 'price',\n",
       " 'bedrooms',\n",
       " 'bathrooms',\n",
       " 'floors',\n",
       " 'waterfront',\n",
       " 'view',\n",
       " 'condition',\n",
       " 'grade',\n",
       " 'sqft_above',\n",
       " 'sqft_basement',\n",
       " 'yr_built',\n",
       " 'yr_renovated',\n",
       " 'zipcode',\n",
       " 'm2_living',\n",
       " 'm2_lot',\n",
       " 'm2_living15',\n",
       " 'm2_lot15']"
      ]
     },
     "execution_count": 18,
     "metadata": {},
     "output_type": "execute_result"
    }
   ],
   "source": [
    "data.columns"
   ]
  },
  {
   "cell_type": "code",
   "execution_count": null,
   "metadata": {},
   "outputs": [],
   "source": []
  },
  {
   "cell_type": "markdown",
   "metadata": {},
   "source": [
    "# Filtering and grouping data"
   ]
  },
  {
   "cell_type": "markdown",
   "metadata": {},
   "source": [
    "## <span style=\"color:green\"> Filtering Data </span>\n",
    "\n",
    "voor het werken met big data is het belangrijk dat je kan snel je data filteren gebaseerd op bepaalde condities. Aangezien Spark DataFrames bovenop de Spark SQL platform gebouwd zijn kan je het doen met SQL commands maar er bestaan ook DataFrame methodes waar wij ons op zullen focussen tijdens dit labo.\n",
    "\n",
    "je kunt de dataset filteren met behulp van de methode:  \n",
    "`df.filter(df[\"column_name\"] < condition)`\n",
    "je kan ook filteren voor meerdere condities met behulp van `|` of `&`\n",
    "\n",
    "*filter de dataset voor huizen die gebouwd zijn na het jaar 2000*"
   ]
  },
  {
   "cell_type": "code",
   "execution_count": 19,
   "metadata": {},
   "outputs": [
    {
     "name": "stdout",
     "output_type": "stream",
     "text": [
      "+----------+-------+--------+---------+------+----------+----+---------+-----+----------+-------------+--------+------------+-------+------------------+------------------+------------------+------------------+\n",
      "|        id|  price|bedrooms|bathrooms|floors|waterfront|view|condition|grade|sqft_above|sqft_basement|yr_built|yr_renovated|zipcode|         m2_living|            m2_lot|       m2_living15|          m2_lot15|\n",
      "+----------+-------+--------+---------+------+----------+----+---------+-----+----------+-------------+--------+------------+-------+------------------+------------------+------------------+------------------+\n",
      "|7237550310|1225000|       4|      4.5|   1.0|         0|   0|        3|   11|      3890|         1530|    2001|           0|  98053|           503.518|          9469.297|           442.204|          9469.297|\n",
      "|3793500160| 323000|       3|      2.5|   2.0|         0|   0|        3|    7|      1890|            0|    2003|           0|  98038|           175.581|           609.424|222.03099999999998| 703.2529999999999|\n",
      "|1873100390| 719000|       4|      2.5|   2.0|         0|   0|        3|    8|      2570|            0|    2005|           0|  98052|           238.753| 666.3716999999999|           244.327|          559.8154|\n",
      "|8562750320| 580500|       3|      2.5|   2.0|         0|   0|        3|    8|      2320|            0|    2003|           0|  98027|           215.528|369.74199999999996|           239.682|369.74199999999996|\n",
      "|2426039314| 280000|       2|      1.5|   3.0|         0|   0|        3|    7|      1190|            0|    2005|           0|  98133|           110.551|117.51849999999999|           129.131|          163.1324|\n",
      "|7203220400| 861990|       5|     2.75|   2.0|         0|   0|        3|    9|      3595|            0|    2014|           0|  98053|          333.9755|          523.8631|          336.7625|          523.8631|\n",
      "|8035350320| 488000|       3|      2.5|   2.0|         0|   0|        3|    8|      3160|            0|    2003|           0|  98019|293.56399999999996|         1263.7187|283.34499999999997|          857.6528|\n",
      "|9478500640| 292500|       4|      2.5|   2.0|         0|   0|        3|    7|      2250|            0|    2008|           0|  98042|           209.025|417.58549999999997|           209.025|            418.05|\n",
      "|2799800710| 301000|       3|      2.5|   2.0|         0|   0|        3|    8|      2420|            0|    2003|           0|  98042|224.81799999999998|           441.275|249.90099999999998|           441.275|\n",
      "|9528102996| 549000|       3|     1.75|   3.0|         0|   0|        3|    8|      1540|            0|    2014|           0|  98115|           143.066|           96.9876|146.78199999999998|           287.061|\n",
      "|3717000160| 287000|       4|      2.5|   2.0|         0|   0|        3|    7|      2240|            0|    2005|           0|  98001|           208.096|          431.7992|206.33089999999999|          423.3453|\n",
      "|5416510140| 360000|       4|      2.5|   2.0|         0|   0|        3|    8|      2380|            0|    2005|           0|  98038|           221.102|             464.5|224.81799999999998|             464.5|\n",
      "|1531000030| 720000|       4|      2.5|   2.0|         0|   0|        3|   10|      3450|            0|    2002|           0|  98010|           320.505|         3686.5507|           311.215|3692.7749999999996|\n",
      "|5104520400| 390000|       3|      2.5|   2.0|         0|   0|        3|    8|      2350|            0|    2003|           0|  98038|           218.315|473.78999999999996|           218.315|          498.2227|\n",
      "|3342103156| 461000|       3|     3.25|   2.0|         0|   0|        3|    9|      1980|          790|    2006|           0|  98056|257.33299999999997|          583.2262|            176.51|          682.7221|\n",
      "|3869900162| 335000|       2|     1.75|   2.0|         0|   0|        3|    7|       765|          265|    2006|           0|  98136|            95.687| 99.03139999999999|            95.687|          102.7474|\n",
      "|5036300431|1099880|       5|     2.75|   2.0|         0|   0|        4|   10|      3520|            0|    2001|           0|  98199|           327.008| 590.1936999999999|           234.108|           580.625|\n",
      "|8961960160| 480000|       4|      2.5|   2.0|         0|   3|        3|    9|      2520|          710|    2001|           0|  98001|           300.067|1502.2858999999999|           245.256|          791.2293|\n",
      "|3362400431| 518500|       3|      3.5|   3.0|         0|   0|        3|    8|      1590|            0|    2010|           0|  98103|147.71099999999998|          102.3758|           150.498|          294.1214|\n",
      "|7853210060| 430000|       4|      2.5|   2.0|         0|   0|        3|    7|      2070|            0|    2004|           0|  98065|           192.303|           400.399|           183.013|348.18919999999997|\n",
      "+----------+-------+--------+---------+------+----------+----+---------+-----+----------+-------------+--------+------------+-------+------------------+------------------+------------------+------------------+\n",
      "only showing top 20 rows\n",
      "\n"
     ]
    }
   ],
   "source": [
    "data.filter(data[\"yr_built\"] > 2000).show()"
   ]
  },
  {
   "cell_type": "markdown",
   "metadata": {},
   "source": [
    "met de `.count()` methode kan je het aantal gefilterde huizen opvragen.  \n",
    "*hoeveel huizen bevat de dataset met minimum 2 slaapkamers en die gelegen zijn aan het waterfront*"
   ]
  },
  {
   "cell_type": "code",
   "execution_count": 20,
   "metadata": {},
   "outputs": [
    {
     "data": {
      "text/plain": [
       "158"
      ]
     },
     "execution_count": 20,
     "metadata": {},
     "output_type": "execute_result"
    }
   ],
   "source": [
    "data.filter((data['bedrooms'] >1) & (data['waterfront']==1)).count()"
   ]
  },
  {
   "cell_type": "markdown",
   "metadata": {},
   "source": [
    "## <span style=\"color:green\"> GroupBy and Aggregate Functions </span>\n",
    "\n",
    "De `groupBy('column_name')` functie laat je rijen groeperen gebaseerd op een bepaalde kolom, bijvoorbeeld je kan huizen groeperen volgens bouwjaar.  \n",
    "Eenmaal je de rijen gegroepeerd hebt, kan je meerdere rijen van data aggregeren tot een output, bijvoorbeeld door het nemen van de som van alle inputrijen of de minimum waarde. \n",
    "*gebruik de groupBy functie op de 'condition' kolom en vraag de minimum waarde op met de min() functie.*"
   ]
  },
  {
   "cell_type": "code",
   "execution_count": 21,
   "metadata": {},
   "outputs": [
    {
     "name": "stdout",
     "output_type": "stream",
     "text": [
      "+---------+--------+----------+-------------+--------------+-----------+---------------+---------+--------------+----------+---------------+------------------+-------------+-----------------+------------+--------------+-----------+------------------+------------------+\n",
      "|condition| min(id)|min(price)|min(bedrooms)|min(bathrooms)|min(floors)|min(waterfront)|min(view)|min(condition)|min(grade)|min(sqft_above)|min(sqft_basement)|min(yr_built)|min(yr_renovated)|min(zipcode)|min(m2_living)|min(m2_lot)|  min(m2_living15)|     min(m2_lot15)|\n",
      "+---------+--------+----------+-------------+--------------+-----------+---------------+---------+--------------+----------+---------------+------------------+-------------+-----------------+------------+--------------+-----------+------------------+------------------+\n",
      "|        1|40000362|     78000|            0|           0.0|        1.0|              0|        0|             1|         1|            290|                 0|         1900|                0|       98004|        26.941|   152.1702| 79.89399999999999|117.61139999999999|\n",
      "|        3| 1000102|     75000|            0|           0.0|        1.0|              0|        0|             3|         3|            380|                 0|         1900|                0|       98001|        35.302|     48.308|            42.734|           60.4779|\n",
      "|        5| 3600072|    110000|            1|          0.75|        1.0|              0|        0|             5|         3|            370|                 0|         1900|                0|       98001|        34.373|   146.8749|            65.959|          102.0971|\n",
      "|        4| 1200019|     89000|            0|           0.0|        1.0|              0|        0|             4|         4|            390|                 0|         1900|                0|       98001|        36.231|    77.3857|37.067099999999996| 98.65979999999999|\n",
      "|        2| 7200080|     80000|            0|           0.0|        1.0|              0|        0|             2|         3|            390|                 0|         1900|                0|       98001|        36.231|    181.155|             83.61|105.72019999999999|\n",
      "+---------+--------+----------+-------------+--------------+-----------+---------------+---------+--------------+----------+---------------+------------------+-------------+-----------------+------------+--------------+-----------+------------------+------------------+\n",
      "\n"
     ]
    }
   ],
   "source": [
    "#aggregate\n",
    "data.groupBy('condition').min().show()"
   ]
  },
  {
   "cell_type": "markdown",
   "metadata": {},
   "source": [
    "*groepeer de rijen volgens de `waterfront` kolom en aggregeer volgens het gemiddelde.*"
   ]
  },
  {
   "cell_type": "code",
   "execution_count": 22,
   "metadata": {},
   "outputs": [
    {
     "name": "stdout",
     "output_type": "stream",
     "text": [
      "+----------+-------------------+------------+------------------+------------------+------------------+---------------+-------------------+------------------+-----------------+------------------+------------------+------------------+-----------------+-----------------+------------------+------------------+------------------+------------------+\n",
      "|waterfront|            avg(id)|  avg(price)|     avg(bedrooms)|    avg(bathrooms)|       avg(floors)|avg(waterfront)|          avg(view)|    avg(condition)|       avg(grade)|   avg(sqft_above)|avg(sqft_basement)|     avg(yr_built)|avg(yr_renovated)|     avg(zipcode)|    avg(m2_living)|       avg(m2_lot)|  avg(m2_living15)|     avg(m2_lot15)|\n",
      "+----------+-------------------+------------+------------------+------------------+------------------+---------------+-------------------+------------------+-----------------+------------------+------------------+------------------+-----------------+-----------------+------------------+------------------+------------------+------------------+\n",
      "|         1|4.490511599668712E9|1661876.0245|3.3006134969325154|2.6779141104294477|1.6411042944785277|            1.0|  3.766871165644172|3.5337423312883436|8.773006134969325| 2473.042944785276| 700.6441717791411|1962.1901840490798|512.3926380368098|98096.52760736196|294.83553312883424|2357.0428417177923| 247.7038865030675|2079.5761889570554|\n",
      "|         0|4.580983840545875E9| 531563.5998|3.3713752913752915|2.1104778554778556|1.4931934731934733|            0.0|0.20745920745920746|3.4084848484848487|7.648391608391608|1783.1879720279721|             288.4|1971.0721212121211|81.14993006993006|98077.79855477855|192.45052260139903|  1396.19077379021|184.07082133334134|1179.4006244289033|\n",
      "+----------+-------------------+------------+------------------+------------------+------------------+---------------+-------------------+------------------+-----------------+------------------+------------------+------------------+-----------------+-----------------+------------------+------------------+------------------+------------------+\n",
      "\n"
     ]
    }
   ],
   "source": [
    "data.groupBy('waterfront').mean().show()"
   ]
  },
  {
   "cell_type": "markdown",
   "metadata": {},
   "source": [
    "Niet alle methoden hebben nood aan een groupby call. In plaats darvan kan je de algemene agg() methode oproepen. Dit kan alle rijen in de dataframe aggregeren in een kolom.  \n",
    "`df.agg({'column_name':'operation'})` de operation kan mean,min,max,count en sum zijn.\n",
    "\n",
    "*gebruiken de algemene agg() methode om de gemiddelde prijs te vinden*"
   ]
  },
  {
   "cell_type": "code",
   "execution_count": 23,
   "metadata": {},
   "outputs": [
    {
     "name": "stdout",
     "output_type": "stream",
     "text": [
      "+-----------+\n",
      "| avg(price)|\n",
      "+-----------+\n",
      "|540088.1418|\n",
      "+-----------+\n",
      "\n"
     ]
    }
   ],
   "source": [
    "data.agg({\"price\":\"mean\"}).show()"
   ]
  },
  {
   "cell_type": "markdown",
   "metadata": {},
   "source": [
    "*groepeer eerst alle rijen volgens `yr_renovated` en sla dit op als de variabele grouped. \n",
    "gebruik vervolgens de algemene agg() methode om de maximale prijs te vinden per jaar*"
   ]
  },
  {
   "cell_type": "code",
   "execution_count": 24,
   "metadata": {},
   "outputs": [
    {
     "name": "stdout",
     "output_type": "stream",
     "text": [
      "+------------+----------+\n",
      "|yr_renovated|max(price)|\n",
      "+------------+----------+\n",
      "|        1959|    397500|\n",
      "|        1990|   1646000|\n",
      "|        1975|    685000|\n",
      "|        1977|   1598890|\n",
      "|        2003|   2888000|\n",
      "|        2007|   2750000|\n",
      "|        1974|    737500|\n",
      "|        2015|   1485000|\n",
      "|        1955|    550000|\n",
      "|        2006|   2160000|\n",
      "|        1978|    655000|\n",
      "|        2013|   2500000|\n",
      "|        1944|    521000|\n",
      "|        1956|   1160000|\n",
      "|        1934|    459950|\n",
      "|        1988|   1900000|\n",
      "|        1997|   1580000|\n",
      "|        1994|   2350000|\n",
      "|        1968|   1245000|\n",
      "|        2014|   1755000|\n",
      "+------------+----------+\n",
      "only showing top 20 rows\n",
      "\n"
     ]
    }
   ],
   "source": [
    "grouped = data.groupBy('yr_renovated')\n",
    "grouped.agg({\"price\":\"max\"}).show()"
   ]
  },
  {
   "cell_type": "markdown",
   "metadata": {},
   "source": [
    "# <span style=\"color:red\"> MlLib gedeelte </span>"
   ]
  },
  {
   "cell_type": "markdown",
   "metadata": {},
   "source": [
    "Om machine learning te kunnen toepassen met MlLib verwacht spark een format dat 2 kolommen bevat met de namen: \"label\" en \"features\".  \n",
    "De label kolom moet een numerische label bevatten, dit kan een numerische waarde zijn voor regressie of classificatie.  \n",
    "De feature kolom moet een vector van alle features bevatten.  \n",
    "In deze sectie zal je een dataframe omzetten naar het verwachte format en zal je de huisprijzen proberen te voorspellen met lineaire regressie."
   ]
  },
  {
   "cell_type": "code",
   "execution_count": 25,
   "metadata": {},
   "outputs": [],
   "source": [
    "from pyspark.ml.linalg import Vectors\n",
    "from pyspark.ml.feature import VectorAssembler"
   ]
  },
  {
   "cell_type": "markdown",
   "metadata": {},
   "source": [
    "## prepping the data"
   ]
  },
  {
   "cell_type": "code",
   "execution_count": 26,
   "metadata": {},
   "outputs": [
    {
     "name": "stdout",
     "output_type": "stream",
     "text": [
      "['bedrooms', 'bathrooms', 'floors', 'waterfront', 'view', 'condition', 'grade', 'sqft_above', 'sqft_basement', 'yr_built', 'yr_renovated', 'zipcode', 'm2_living', 'm2_lot', 'm2_living15', 'm2_lot15']\n"
     ]
    }
   ],
   "source": [
    "data_features = data.drop('price')\n",
    "data_features = data_features.drop('id')\n",
    "columns = data_features.columns\n",
    "print(columns)"
   ]
  },
  {
   "cell_type": "code",
   "execution_count": 27,
   "metadata": {},
   "outputs": [],
   "source": [
    "assembler = VectorAssembler(inputCols=columns,outputCol='features')"
   ]
  },
  {
   "cell_type": "code",
   "execution_count": 28,
   "metadata": {},
   "outputs": [],
   "source": [
    "output = assembler.transform(data)"
   ]
  },
  {
   "cell_type": "code",
   "execution_count": 29,
   "metadata": {},
   "outputs": [
    {
     "data": {
      "text/plain": [
       "[Row(id=7129300520, price=Decimal('221900'), bedrooms=3, bathrooms=1.0, floors=1.0, waterfront=0, view=0, condition=3, grade=7, sqft_above=1180, sqft_basement=0, yr_built=1955, yr_renovated=0, zipcode=98178, m2_living=109.622, m2_lot=524.885, m2_living15=124.48599999999999, m2_lot15=524.885, features=DenseVector([3.0, 1.0, 1.0, 0.0, 0.0, 3.0, 7.0, 1180.0, 0.0, 1955.0, 0.0, 98178.0, 109.622, 524.885, 124.486, 524.885]))]"
      ]
     },
     "execution_count": 29,
     "metadata": {},
     "output_type": "execute_result"
    }
   ],
   "source": [
    "output.head(1)"
   ]
  },
  {
   "cell_type": "code",
   "execution_count": 30,
   "metadata": {},
   "outputs": [
    {
     "data": {
      "text/plain": [
       "Row(features=DenseVector([3.0, 1.0, 1.0, 0.0, 0.0, 3.0, 7.0, 1180.0, 0.0, 1955.0, 0.0, 98178.0, 109.622, 524.885, 124.486, 524.885]), price=Decimal('221900'))"
      ]
     },
     "execution_count": 30,
     "metadata": {},
     "output_type": "execute_result"
    }
   ],
   "source": [
    "final_data = output.select('features','price')\n",
    "final_data.head()"
   ]
  },
  {
   "cell_type": "markdown",
   "metadata": {},
   "source": [
    "## splitsen in train en test data"
   ]
  },
  {
   "cell_type": "markdown",
   "metadata": {},
   "source": [
    "belangrijk: de target moet in dezelfde dataframe blijven"
   ]
  },
  {
   "cell_type": "code",
   "execution_count": 31,
   "metadata": {},
   "outputs": [],
   "source": [
    "train_data,test_data = final_data.randomSplit([0.8,0.2])"
   ]
  },
  {
   "cell_type": "code",
   "execution_count": 32,
   "metadata": {},
   "outputs": [
    {
     "name": "stdout",
     "output_type": "stream",
     "text": [
      "+-------+-----------------+\n",
      "|summary|            price|\n",
      "+-------+-----------------+\n",
      "|  count|            17265|\n",
      "|   mean|      540045.7694|\n",
      "| stddev|366867.8283524557|\n",
      "|    min|            75000|\n",
      "|    max|          7700000|\n",
      "+-------+-----------------+\n",
      "\n"
     ]
    }
   ],
   "source": [
    "train_data.describe().show()"
   ]
  },
  {
   "cell_type": "code",
   "execution_count": 33,
   "metadata": {},
   "outputs": [
    {
     "name": "stdout",
     "output_type": "stream",
     "text": [
      "+-------+------------------+\n",
      "|summary|             price|\n",
      "+-------+------------------+\n",
      "|  count|              4348|\n",
      "|   mean|       540256.3935|\n",
      "| stddev|368197.52570288384|\n",
      "|    min|             85000|\n",
      "|    max|           6885000|\n",
      "+-------+------------------+\n",
      "\n"
     ]
    }
   ],
   "source": [
    "test_data.describe().show()"
   ]
  },
  {
   "cell_type": "markdown",
   "metadata": {},
   "source": [
    "## runnen algoritme"
   ]
  },
  {
   "cell_type": "code",
   "execution_count": 34,
   "metadata": {},
   "outputs": [],
   "source": [
    "lr = LinearRegression(labelCol='price',regParam=0.1)\n",
    "lr_model = lr.fit(train_data)\n",
    " #residuals is the difference between the predicted value and the label of the test data"
   ]
  },
  {
   "cell_type": "markdown",
   "metadata": {},
   "source": [
    "## get the results and evaluate"
   ]
  },
  {
   "cell_type": "code",
   "execution_count": 35,
   "metadata": {},
   "outputs": [
    {
     "name": "stdout",
     "output_type": "stream",
     "text": [
      "+-------------------+\n",
      "|          residuals|\n",
      "+-------------------+\n",
      "| -72098.31926134787|\n",
      "|-247791.47242938355|\n",
      "|  285395.8796847649|\n",
      "|-105203.91558420379|\n",
      "|   -99887.327973512|\n",
      "|  234101.1302129086|\n",
      "|  439468.5608370006|\n",
      "|  77125.52982911374|\n",
      "| -303617.4875629926|\n",
      "| -534219.8708007811|\n",
      "|-105706.24107830413|\n",
      "|  145240.6058780672|\n",
      "|-157702.86670738552|\n",
      "| 314305.36914058775|\n",
      "| 35255.593744102865|\n",
      "|-53868.530140295625|\n",
      "|-19862.468336434104|\n",
      "|   231177.204164288|\n",
      "|-135424.39479584713|\n",
      "| -65433.86905041989|\n",
      "+-------------------+\n",
      "only showing top 20 rows\n",
      "\n"
     ]
    }
   ],
   "source": [
    "test_results = lr_model.evaluate(test_data)\n",
    "test_results.residuals.show()"
   ]
  },
  {
   "cell_type": "code",
   "execution_count": 36,
   "metadata": {},
   "outputs": [
    {
     "data": {
      "text/plain": [
       "217511.31634150408"
      ]
     },
     "execution_count": 36,
     "metadata": {},
     "output_type": "execute_result"
    }
   ],
   "source": [
    "test_results.rootMeanSquaredError"
   ]
  },
  {
   "cell_type": "code",
   "execution_count": 37,
   "metadata": {},
   "outputs": [
    {
     "data": {
      "text/plain": [
       "0.6509385590386749"
      ]
     },
     "execution_count": 37,
     "metadata": {},
     "output_type": "execute_result"
    }
   ],
   "source": [
    "test_results.r2"
   ]
  },
  {
   "cell_type": "code",
   "execution_count": null,
   "metadata": {},
   "outputs": [],
   "source": []
  }
 ],
 "metadata": {
  "kernelspec": {
   "display_name": "Python 2",
   "language": "python",
   "name": "python2"
  },
  "language_info": {
   "codemirror_mode": {
    "name": "ipython",
    "version": 2
   },
   "file_extension": ".py",
   "mimetype": "text/x-python",
   "name": "python",
   "nbconvert_exporter": "python",
   "pygments_lexer": "ipython2",
   "version": "2.7.15rc1"
  }
 },
 "nbformat": 4,
 "nbformat_minor": 2
}
